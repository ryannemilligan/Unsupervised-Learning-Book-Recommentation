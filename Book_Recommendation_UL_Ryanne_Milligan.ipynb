{
  "cells": [
    {
      "cell_type": "markdown",
      "metadata": {
        "id": "view-in-github",
        "colab_type": "text"
      },
      "source": [
        "<a href=\"https://colab.research.google.com/github/ryannemilligan/Unsupervised-Learning-Book-Recommentation/blob/main/Book_Recommendation_UL_Ryanne_Milligan.ipynb\" target=\"_parent\"><img src=\"https://colab.research.google.com/assets/colab-badge.svg\" alt=\"Open In Colab\"/></a>"
      ]
    },
    {
      "cell_type": "markdown",
      "id": "96426b18",
      "metadata": {
        "id": "96426b18"
      },
      "source": [
        "# Book Recommendation"
      ]
    },
    {
      "cell_type": "markdown",
      "id": "65331614",
      "metadata": {
        "id": "65331614"
      },
      "source": [
        "# The Scenario"
      ]
    },
    {
      "cell_type": "markdown",
      "id": "463ef668",
      "metadata": {
        "id": "463ef668"
      },
      "source": [
        "A recommendation engine is a class of machine learning which offers relevant suggestions to the customer.  \n",
        "\n",
        "Before the recommendation system, the primary tendency to buy was to take suggestions from friends.But now Google knows what news you will read, Youtube knows what type of videos you will watch based on your search history, watch history, or purchase history.\n",
        "\n",
        "A recommendation system helps an organization to create loyal customers and build trust in desired products and services for which they visited your site.\n",
        "\n",
        "**A book recommendation system** is a type of recommendation system where we have to recommend similar books to the reader based on his interest.\n",
        "\n",
        "The books recommendation system is used by online websites which provide ebooks like Google Play Books, Open Library, Goodreads, etc.\n"
      ]
    },
    {
      "cell_type": "markdown",
      "id": "8447cfee",
      "metadata": {
        "id": "8447cfee"
      },
      "source": [
        "# Tips for working on this project\n",
        "You will be using these three concepts to be able to successfully complete this project:\n",
        "1. Deep Learning models\n",
        "2. AI Project Cycle <br>\n",
        "3. Understanding of Supervised Learning <br>\n",
        "\n",
        "If needed, please revise your notes on these topics."
      ]
    },
    {
      "cell_type": "markdown",
      "id": "bda40bf5",
      "metadata": {
        "id": "bda40bf5"
      },
      "source": [
        "# Section 1: Understand the Problem\n",
        "\n",
        "One of the key points of solving an AI problem is to understand the problem statement correctly. <br>\n",
        "You need to understand what is the correct problems that you are solving.<br>\n",
        "You want to solve the root problem and not the symptoms.<br>\n",
        "To do that, you can use tools like 5 Whys, decomposition, and Fish-bone diagram.<br>\n",
        "You can then write your problem statement.<br>\n",
        "It may include helpful information, like who is affected, what is the problem, where is it happening, and when does it happen.<br>\n",
        "\n",
        "Based on the scenario above, write your problem statement in the cell below!<br>"
      ]
    },
    {
      "cell_type": "code",
      "execution_count": 1,
      "id": "8d2e877f",
      "metadata": {
        "id": "8d2e877f"
      },
      "outputs": [],
      "source": [
        "# Your answers here!\n",
        "\n",
        "# Book Recommendation will help people to select a book of their interest.\n",
        "# Book Recommendation will reduce the efforts to select a book based on the user's previous preferences.\n",
        "# However, to make recommendations for books, we need to have a good machine learning algorithm.\n",
        "# Therefore, it is important to develop an AI model that can automatically recommend books.\n",
        "\n",
        "# Who's affected? - Online readers who used Google Play Books, Open Library, and Goodreads\n",
        "# What is the problem? - Cannot find books that peak interest due to overload of options and no personalization\n",
        "# Where? - Online platforms with a large library of ebooks.\n",
        "# When? - When a user finishes a book, look for a new one, or exploring genres they are unfamiliar with\n",
        "\n",
        "# Root problem? - Lack of a personalized system that recommends books that match individual user preferences.\n",
        "\n",
        "# Goal of this project? - To develop an AI-powered recommendation system that will suggest books relevant to users based on history, preferences, and their behaviors.\n",
        "\n",
        "# Impact of project? - To make users happy, shorten time searching for new books, and build loyalty in the platform."
      ]
    },
    {
      "cell_type": "markdown",
      "id": "e15fb1f9",
      "metadata": {
        "id": "e15fb1f9"
      },
      "source": [
        "# Section 2: Data Acquisition\n",
        "\n",
        "Data is the main ingredient for AI model. <br>\n",
        "For a typical scenario for book recommendation sysem, where can you find your data? <br>\n",
        "Write your answer in the cell below. <br>\n",
        "\n",
        "In this scenario, you are given a few files.<br>\n",
        "These files are downloaded from: https://www.kaggle.com/abhinavjhanwar/book-recommender-content-collaborative/data<br>\n"
      ]
    },
    {
      "cell_type": "code",
      "execution_count": 2,
      "id": "02031aac",
      "metadata": {
        "id": "02031aac"
      },
      "outputs": [],
      "source": [
        "# Your answers here!\n",
        "\n",
        "# There are many sources that we can use.\n",
        "# There are online sources like Kaggle.\n",
        "# We can also capture our own data, just like what Google has been doing.\n",
        "\n",
        "# I am using the Books.csv, Ratings,csv, and Users.csv datasets for this project"
      ]
    },
    {
      "cell_type": "markdown",
      "id": "aa0b5a00",
      "metadata": {
        "id": "aa0b5a00"
      },
      "source": [
        "## The Machine Learning Models\n",
        "What are different types of AI models ? <br>\n",
        "In what areas of our life is AI important? <br>\n",
        "How does Unsupervised learning affect our daily life?<br>\n",
        "Write your answer in the cell below."
      ]
    },
    {
      "cell_type": "code",
      "execution_count": 3,
      "id": "436bf6ed",
      "metadata": {
        "id": "436bf6ed"
      },
      "outputs": [],
      "source": [
        "# Your answer here!\n",
        "\n",
        "# AI Models include: supervised, unsupervised and reinforcement learning.\n",
        "# AI plays an important role in decision making, healthcare, fraud prediction and many more applications.\n",
        "# Unsupervised algorithms help machine to predict the behaviour of Humans without human intervention"
      ]
    },
    {
      "cell_type": "markdown",
      "id": "d8c0454b",
      "metadata": {
        "id": "d8c0454b"
      },
      "source": [
        "# Import libraries"
      ]
    },
    {
      "cell_type": "code",
      "execution_count": 4,
      "id": "27e91587",
      "metadata": {
        "colab": {
          "base_uri": "https://localhost:8080/",
          "height": 17
        },
        "id": "27e91587",
        "outputId": "e303d1a9-9175-4aa6-d05a-a707a39e8088"
      },
      "outputs": [
        {
          "output_type": "display_data",
          "data": {
            "text/html": [
              "        <script type=\"text/javascript\">\n",
              "        window.PlotlyConfig = {MathJaxConfig: 'local'};\n",
              "        if (window.MathJax && window.MathJax.Hub && window.MathJax.Hub.Config) {window.MathJax.Hub.Config({SVG: {font: \"STIX-Web\"}});}\n",
              "        if (typeof require !== 'undefined') {\n",
              "        require.undef(\"plotly\");\n",
              "        requirejs.config({\n",
              "            paths: {\n",
              "                'plotly': ['https://cdn.plot.ly/plotly-2.35.2.min']\n",
              "            }\n",
              "        });\n",
              "        require(['plotly'], function(Plotly) {\n",
              "            window._Plotly = Plotly;\n",
              "        });\n",
              "        }\n",
              "        </script>\n",
              "        "
            ]
          },
          "metadata": {}
        }
      ],
      "source": [
        "# This Python 3 environment comes with many helpful analytics libraries installed.\n",
        "# It is defined by the kaggle/python Docker image: https://github.com/kaggle/docker-python\n",
        "# For example, here are several helpful packages to load:\n",
        "\n",
        "import numpy as np # linear algebra\n",
        "import pandas as pd # data processing, CSV file I/O (e.g. pd.read_csv)\n",
        "import matplotlib.pyplot as plt\n",
        "import seaborn as sns\n",
        "import plotly.express as px\n",
        "from plotly.offline import init_notebook_mode\n",
        "init_notebook_mode(connected=True)\n",
        "\n"
      ]
    },
    {
      "cell_type": "markdown",
      "id": "1016bfe8",
      "metadata": {
        "id": "1016bfe8"
      },
      "source": [
        "# Loading Datasets"
      ]
    },
    {
      "cell_type": "code",
      "execution_count": 5,
      "id": "2c784e45",
      "metadata": {
        "id": "2c784e45"
      },
      "outputs": [],
      "source": [
        "# Read Datasets(Ratings.csv, Users.csv, Books.csv) provided in the folder.\n",
        "\n",
        "books = pd.read_csv('Books.csv', low_memory=False)\n",
        "users = pd.read_csv('Users.csv')\n",
        "ratings = pd.read_csv('Ratings.csv')\n"
      ]
    },
    {
      "cell_type": "markdown",
      "id": "047e8cd0",
      "metadata": {
        "id": "047e8cd0"
      },
      "source": [
        "# Data Exploration\n",
        "\n",
        "Understanding the Datasets"
      ]
    },
    {
      "cell_type": "code",
      "execution_count": 6,
      "id": "09d268b4",
      "metadata": {
        "collapsed": true,
        "colab": {
          "base_uri": "https://localhost:8080/"
        },
        "id": "09d268b4",
        "outputId": "b32a74e1-b3a2-41ed-9325-3213ea63ce73"
      },
      "outputs": [
        {
          "output_type": "stream",
          "name": "stdout",
          "text": [
            "<class 'pandas.core.frame.DataFrame'>\n",
            "RangeIndex: 544365 entries, 0 to 544364\n",
            "Data columns (total 3 columns):\n",
            " #   Column       Non-Null Count   Dtype  \n",
            "---  ------       --------------   -----  \n",
            " 0   User-ID      544365 non-null  int64  \n",
            " 1   ISBN         544365 non-null  object \n",
            " 2   Book-Rating  544364 non-null  float64\n",
            "dtypes: float64(1), int64(1), object(1)\n",
            "memory usage: 12.5+ MB\n"
          ]
        }
      ],
      "source": [
        "# Print concise summary of Ratings.csv Dataset\n",
        "ratings.info()"
      ]
    },
    {
      "cell_type": "code",
      "execution_count": 7,
      "id": "204d81c9",
      "metadata": {
        "collapsed": true,
        "colab": {
          "base_uri": "https://localhost:8080/"
        },
        "id": "204d81c9",
        "outputId": "f5f4eca5-83fb-4234-cf49-577106080402"
      },
      "outputs": [
        {
          "output_type": "stream",
          "name": "stdout",
          "text": [
            "<class 'pandas.core.frame.DataFrame'>\n",
            "RangeIndex: 265585 entries, 0 to 265584\n",
            "Data columns (total 3 columns):\n",
            " #   Column    Non-Null Count   Dtype  \n",
            "---  ------    --------------   -----  \n",
            " 0   User-ID   265585 non-null  int64  \n",
            " 1   Location  265585 non-null  object \n",
            " 2   Age       160122 non-null  float64\n",
            "dtypes: float64(1), int64(1), object(1)\n",
            "memory usage: 6.1+ MB\n"
          ]
        }
      ],
      "source": [
        "# Print concise summary of Users.csv Dataset\n",
        "\n",
        "users.info()"
      ]
    },
    {
      "cell_type": "code",
      "execution_count": 8,
      "id": "271bdfe0",
      "metadata": {
        "collapsed": true,
        "colab": {
          "base_uri": "https://localhost:8080/"
        },
        "id": "271bdfe0",
        "outputId": "e62914d8-a7b7-4e28-8c2e-0154c9cdf513"
      },
      "outputs": [
        {
          "output_type": "stream",
          "name": "stdout",
          "text": [
            "<class 'pandas.core.frame.DataFrame'>\n",
            "RangeIndex: 15868 entries, 0 to 15867\n",
            "Data columns (total 8 columns):\n",
            " #   Column               Non-Null Count  Dtype  \n",
            "---  ------               --------------  -----  \n",
            " 0   ISBN                 15868 non-null  object \n",
            " 1   Book-Title           15868 non-null  object \n",
            " 2   Book-Author          15867 non-null  object \n",
            " 3   Year-Of-Publication  15867 non-null  float64\n",
            " 4   Publisher            15867 non-null  object \n",
            " 5   Image-URL-S          15867 non-null  object \n",
            " 6   Image-URL-M          15867 non-null  object \n",
            " 7   Image-URL-L          15867 non-null  object \n",
            "dtypes: float64(1), object(7)\n",
            "memory usage: 991.9+ KB\n"
          ]
        }
      ],
      "source": [
        "# Print concise summary of Books.csv Dataset\n",
        "\n",
        "books.info()"
      ]
    },
    {
      "cell_type": "code",
      "execution_count": 10,
      "id": "26adafbe",
      "metadata": {
        "id": "26adafbe"
      },
      "outputs": [],
      "source": [
        "# Remove 'DK Publishing Inc', 'Gallimard' values from 'Year-Of-Publication' column and convert to int\n",
        "\n",
        "# remove bad string values\n",
        "books = books[~books['Year-Of-Publication'].isin(['DK Publishing Inc', 'Gallimard'])]\n",
        "\n",
        "books[\"Year-Of-Publication\"] = pd.to_numeric(books[\"Year-Of-Publication\"], errors='coerce')\n",
        "\n",
        "books = books.dropna(subset=[\"Year-Of-Publication\"])\n",
        "\n",
        "# convert to int\n",
        "books['Year-Of-Publication'] = books['Year-Of-Publication'].astype(int)\n"
      ]
    },
    {
      "cell_type": "markdown",
      "id": "946ab56f",
      "metadata": {
        "id": "946ab56f"
      },
      "source": [
        "**Final Datasets after removing and conversion to int must look like:**\n",
        "\n",
        "\n",
        "**Dataset 1 - Rating.csv (11149780)**\n",
        "\n",
        "User-ID - user ID<br>\n",
        "ISBN - book ID<br>\n",
        "Book-Rating - Rating given by user<br>\n",
        "\n",
        "\n",
        "**Dataset 2 - Users.csv (278858)**\n",
        "\n",
        "User-ID - user ID<br>\n",
        "Location - location of user<br>\n",
        "Age - age of user<br>\n",
        "\n",
        "\n",
        "**Dataset 3 - Books.csv (271360)**\n",
        "\n",
        "ISBN - book ID<br>\n",
        "Book-Title - Book Name<br>\n",
        "Book-Author<br>\n",
        "Year-Of-Publication<br>\n",
        "Publisher<br>\n",
        "Image-URL-S<br>\n",
        "Image-URL-M<br>\n",
        "Image-URL-L<br>"
      ]
    },
    {
      "cell_type": "markdown",
      "id": "14284c18",
      "metadata": {
        "id": "14284c18"
      },
      "source": [
        "# Exploratory Data Analysis\n"
      ]
    },
    {
      "cell_type": "code",
      "execution_count": null,
      "id": "ea4af43c",
      "metadata": {
        "id": "ea4af43c"
      },
      "outputs": [],
      "source": [
        "def plot_distribution(feature, data):\n",
        "    sns.displot(x=feature, data=data, kde=True, color='#244747');\n",
        "    plt.figtext(0.2, 1, '%s Distribution'%feature, fontfamily='serif', fontsize=17, fontweight='bold');"
      ]
    },
    {
      "cell_type": "markdown",
      "id": "653a82e0",
      "metadata": {
        "id": "653a82e0"
      },
      "source": [
        "## Distribution of User as per age"
      ]
    },
    {
      "cell_type": "code",
      "execution_count": null,
      "id": "f4612ffc",
      "metadata": {
        "id": "f4612ffc"
      },
      "outputs": [],
      "source": [
        "# Plot graph showing Distribution of users as per age\n",
        "\n",
        "plot_distribution('Age', users)"
      ]
    },
    {
      "cell_type": "markdown",
      "id": "1a479b42",
      "metadata": {
        "id": "1a479b42"
      },
      "source": [
        "## Distribution across years of publication"
      ]
    },
    {
      "cell_type": "code",
      "execution_count": null,
      "id": "4a7859d4",
      "metadata": {
        "collapsed": true,
        "id": "4a7859d4"
      },
      "outputs": [],
      "source": [
        "# Plot graph showing Distribution across year of publication\n",
        "\n",
        "plot_distribution('Year-Of-Publication', books)"
      ]
    },
    {
      "cell_type": "markdown",
      "id": "016a6d4f",
      "metadata": {
        "id": "016a6d4f"
      },
      "source": [
        "# Recommendor 1 : Demographic Filtering\n"
      ]
    },
    {
      "cell_type": "markdown",
      "id": "beab82e4",
      "metadata": {
        "id": "beab82e4"
      },
      "source": [
        "## 1. Top 20 Highest Rated Books\n"
      ]
    },
    {
      "cell_type": "code",
      "execution_count": null,
      "id": "b4f75d44",
      "metadata": {
        "collapsed": true,
        "id": "b4f75d44"
      },
      "outputs": [],
      "source": [
        "data = ratings.groupby('ISBN').agg(['mean', 'count'])['Book-Rating'].reset_index()\n",
        "\n",
        "# generate score based on mean rating and total number of times the book is rated\n",
        "m = data['count'].quantile(0.99) # minimum votes required to be listed in the Top 250\n",
        "data = data[data['count']>m]\n",
        "print('m =', m)\n",
        "print(data.shape)\n",
        "R = data['mean'] # average for the book (mean) = (Rating)\n",
        "v = data['count'] # number of votes for the book = (votes)\n",
        "C = data['mean'].mean() # mean vote across all books\n",
        "data['weighted rating'] = (v/(v+m))*R + (m/(v+m))*C\n",
        "data = data.sort_values('weighted rating', ascending=False).reset_index(drop=True)\n",
        "\n",
        "# get title of books\n",
        "data = pd.merge(data, books, on='ISBN')[['Book-Title', 'Book-Author', 'mean', 'count', 'weighted rating',\n",
        "                              'Year-Of-Publication']].drop_duplicates('Book-Title').iloc[:20]\n",
        "data"
      ]
    },
    {
      "cell_type": "markdown",
      "id": "d156478a",
      "metadata": {
        "id": "d156478a"
      },
      "source": [
        "## Top 20 Highest Rated Authors"
      ]
    },
    {
      "cell_type": "code",
      "execution_count": null,
      "id": "d023f98a",
      "metadata": {
        "collapsed": true,
        "id": "d023f98a"
      },
      "outputs": [],
      "source": [
        "# drop any duplicates in df3\n",
        "books_clean = books.drop_duplicates(subset=['Book-Author', 'Book-Title'])\n",
        "\n",
        "# get book-author and title from df3\n",
        "ratings_with_authors = pd.merge(ratings, books_clean[['ISBN', 'Book-Author']], on='ISBN')\n",
        "\n",
        "# generate score based on mean rating and total number of times the author is rated\n",
        "data = ratings_with_authors.groupby('Book-Author').agg({'Book-Rating': ['mean', 'count']}).reset_index()\n",
        "data.columns = ['Book-Author', 'mean', 'count']\n",
        "m = data['count'].quantile(0.99) # minimum votes required to be listed in the Top 250\n",
        "data = data[data['count']>m]\n",
        "print('m =', m)\n",
        "print(data.shape)\n",
        "\n",
        "\n",
        "# average for the author (mean) = (Rating)\n",
        "R = data['mean']\n",
        "\n",
        "# number of votes for the author = (votes)\n",
        "v = data['count']\n",
        "\n",
        "# mean vote across all authors\n",
        "C = data['mean'].mean()\n",
        "\n",
        "data['weighted rating'] = (v/(v+m))*R + (m/(v+m))*C\n",
        "data = data.sort_values('weighted rating', ascending=False).reset_index(drop=True)\n",
        "\n",
        "data.iloc[:20]"
      ]
    },
    {
      "cell_type": "markdown",
      "id": "15eb0da7",
      "metadata": {
        "id": "15eb0da7"
      },
      "source": [
        "## Recommender 2: Collaborative Filtering\n",
        "\n",
        "Based on records from various users provide recommendations based on user similarities.\n",
        "\n"
      ]
    },
    {
      "cell_type": "code",
      "execution_count": null,
      "id": "1e84aa65",
      "metadata": {
        "id": "1e84aa65"
      },
      "outputs": [],
      "source": [
        "# merge df1 and df5 to get movie titles and drop rows for which title is not available\n",
        "data = pd.merge(ratings, books[['ISBN', 'Book-Title']], on='ISBN')\n",
        "data = data.dropna(subset=['Book-Title'])\n",
        "\n",
        "# get total counts of no. of occurence of book\n",
        "data['count'] = data.groupby('ISBN')['ISBN'].transform('count')\n",
        "\n",
        "# fetch top 100 books based on count\n",
        "isbn = data.drop_duplicates('ISBN').sort_values(\n",
        "    'count', ascending=False).iloc[:100]['ISBN']\n",
        "\n",
        "# filter out data as per the ISBN\n",
        "data = data[data['ISBN'].isin(isbn)].reset_index(drop=True)"
      ]
    },
    {
      "cell_type": "code",
      "execution_count": null,
      "id": "ef706db2",
      "metadata": {
        "collapsed": true,
        "id": "ef706db2"
      },
      "outputs": [],
      "source": [
        "# create a user book rating matrix\n",
        "user_book_matrix = data.pivot_table(index='User-ID', columns='Book-Title', values='Book-Rating')"
      ]
    },
    {
      "cell_type": "code",
      "execution_count": null,
      "id": "904b4fb9",
      "metadata": {
        "collapsed": true,
        "id": "904b4fb9"
      },
      "outputs": [],
      "source": [
        "# get user-ID for users who have read more than 50 books\n",
        "active_users = data['User-ID'].value_counts()\n",
        "active_users = active_users[active_users > 50].index"
      ]
    },
    {
      "cell_type": "markdown",
      "id": "11fc806a",
      "metadata": {
        "id": "11fc806a"
      },
      "source": [
        "### Using Surpise Library\n",
        "\n",
        "Surprise is a Python scikit for building and analyzing recommender systems that deal with explicit rating data."
      ]
    },
    {
      "cell_type": "code",
      "source": [
        "!pip install numpy==1.24.4\n",
        "# surprise wouldn't run on newer version of numpy"
      ],
      "metadata": {
        "id": "PfmcpHOcGWGE"
      },
      "id": "PfmcpHOcGWGE",
      "execution_count": null,
      "outputs": []
    },
    {
      "cell_type": "code",
      "source": [
        "#installing surprise library\n",
        "!pip install scikit-surprise\n"
      ],
      "metadata": {
        "id": "cMfEK2BtFBZX"
      },
      "id": "cMfEK2BtFBZX",
      "execution_count": null,
      "outputs": []
    },
    {
      "cell_type": "code",
      "execution_count": null,
      "id": "c0fd896b",
      "metadata": {
        "id": "c0fd896b"
      },
      "outputs": [],
      "source": [
        "from surprise import Reader, Dataset, SVD\n",
        "from surprise.model_selection import train_test_split, cross_validate"
      ]
    },
    {
      "cell_type": "code",
      "execution_count": null,
      "id": "beeb823b",
      "metadata": {
        "id": "beeb823b"
      },
      "outputs": [],
      "source": [
        "reader = Reader(rating_scale=(0, 10))\n",
        "surprise_data = Dataset.load_from_df(data[['User-ID', 'ISBN', 'Book-Rating']], reader)\n",
        "trainset, testset = train_test_split(surprise_data, test_size=0.25)"
      ]
    },
    {
      "cell_type": "code",
      "execution_count": null,
      "id": "237a0dfa",
      "metadata": {
        "collapsed": true,
        "id": "237a0dfa"
      },
      "outputs": [],
      "source": [
        "benchmark = []\n",
        "# Iterate over all algorithms\n",
        "for algorithm in [SVD()]:\n",
        "    # Perform cross validation\n",
        "    results = cross_validate(algorithm, surprise_data, measures=['RMSE'], cv=3, verbose=False)\n",
        "\n",
        "    # Get results & append algorithm name\n",
        "    tmp = pd.DataFrame.from_dict(results).mean(axis=0)\n",
        "    tmp = pd.concat([tmp, pd.Series([str(algorithm).split(' ')[0].split('.')[-1]], index=['Algorithm'])])\n",
        "    benchmark.append(tmp)\n",
        "\n",
        "pd.DataFrame(benchmark).set_index('Algorithm').sort_values('test_rmse')"
      ]
    },
    {
      "cell_type": "code",
      "execution_count": null,
      "id": "f9587e59",
      "metadata": {
        "id": "f9587e59"
      },
      "outputs": [],
      "source": [
        "svd = SVD()\n",
        "svd.fit(trainset)"
      ]
    },
    {
      "cell_type": "code",
      "execution_count": null,
      "id": "17d73baa",
      "metadata": {
        "collapsed": true,
        "id": "17d73baa"
      },
      "outputs": [],
      "source": [
        "df = data.pivot_table(index='User-ID', columns='ISBN', values='Book-Rating')\n",
        "\n",
        "index_val = 2131\n",
        "# get user id\n",
        "userId = df.index[index_val]\n",
        "books = []\n",
        "ratings = []\n",
        "titles = []\n",
        "\n",
        "for isbn in df.iloc[index_val][df.iloc[index_val].isna()].index:\n",
        "    books.append(isbn)\n",
        "    title = data[data['ISBN']==isbn]['Book-Title'].values[0]\n",
        "    titles.append(title)\n",
        "    ratings.append(svd.predict(userId, isbn).est)\n",
        "\n",
        "prediction = pd.DataFrame({'ISBN':books, 'title':titles, 'rating':ratings, 'userId':userId})\n",
        "prediction = prediction.sort_values('rating', ascending=False).iloc[:10].reset_index(drop=True)\n",
        "\n",
        "# get other high rated books by user\n",
        "temp = data[data['User-ID']==df.index[index_val]].sort_values(\n",
        "    'Book-Rating', ascending=False)[['Book-Rating', 'Book-Title', 'User-ID']].iloc[:10].reset_index(drop=True)\n",
        "prediction['Book Read'] = temp['Book-Title']\n",
        "prediction['Rated']= temp['Book-Rating']\n",
        "prediction"
      ]
    },
    {
      "cell_type": "code",
      "execution_count": null,
      "id": "075692b1",
      "metadata": {
        "collapsed": true,
        "id": "075692b1"
      },
      "outputs": [],
      "source": [
        "index_val = 912\n",
        "# get user id\n",
        "userID=df.index[index_val]\n",
        "\n",
        "\n",
        "# get other high rated books by user\n",
        "temp = data[data['User-ID'] == userId].sort_values(\n",
        "    'Book-Rating', ascending=False)[['Book-Rating']].iloc[:10].reset_index(drop=True)\n"
      ]
    },
    {
      "cell_type": "markdown",
      "id": "2f34464f",
      "metadata": {
        "id": "2f34464f"
      },
      "source": [
        "## Using mean of other users' weighted ratings based on similarity matrix\n",
        "\n",
        "\n",
        "Here, assumed rating may not make much sense as most of the books are not read by other users."
      ]
    },
    {
      "cell_type": "code",
      "execution_count": null,
      "id": "af5b9484",
      "metadata": {
        "id": "af5b9484"
      },
      "outputs": [],
      "source": [
        "from sklearn.metrics.pairwise import cosine_similarity"
      ]
    },
    {
      "cell_type": "code",
      "execution_count": null,
      "id": "e326633f",
      "metadata": {
        "id": "e326633f"
      },
      "outputs": [],
      "source": [
        "# replace NaN with user based average rating in pivot dataframe\n",
        "user_book_matrix_filled = user_book_matrix.apply(lambda row: row.fillna(row.mean()), axis=1)\n",
        "\n",
        "# get similarity between all users\n",
        "user_similarity = cosine_similarity(user_book_matrix_filled)"
      ]
    },
    {
      "cell_type": "code",
      "execution_count": null,
      "id": "db8fc4bf",
      "metadata": {
        "id": "db8fc4bf"
      },
      "outputs": [],
      "source": [
        "def get_recommendation(user_index):\n",
        "    idx = user_index\n",
        "    sim_scores = list(enumerate(similarity_matrix[idx]))\n",
        "\n",
        "\n",
        "    # get books that are unrated by the given user\n",
        "    unrated_books = user_book_matrix_filled.columns[user_book_matrix_filled.iloc[idx].isna()]\n",
        "\n",
        "    # get weighted ratings of unrated books by all other users\n",
        "    weighted_ratings = pd.DataFrame()\n",
        "\n",
        "    for book in unrated_books:\n",
        "      ratings = user_book_matrix_filled[book]\n",
        "      sims = pd.Series(dict(sim_scores))\n",
        "      weighted = ratings * sims\n",
        "      weighted_ratings[book] = weighted\n",
        "\n",
        "    weighted_ratings.index = user_book_matrix_filled.index\n",
        "\n",
        "\n",
        "    # get top 100 similar users by skipping the current user\n",
        "    sim_scores = sorted(sim_scores, key=lambda x: x[1], reverse=True)[1:101]\n",
        "\n",
        "    # get mean of book ratings by top 100 most similar users for the unrated books\n",
        "    top_sim_users = [i[0] for i in sim_scores]\n",
        "    top_sim_user_ids = user_book_matrix_filled.index[top_sim_users]\n",
        "    book_ratings = weighted_ratings.loc[top_sim_user_ids].mean().dropna().sort_values(ascending=False).reset_index()\n",
        "\n",
        "\n",
        "    # get rid of null values and sort it based on ratings\n",
        "    book_ratings.columns = ['ISBN', 0]\n",
        "\n",
        "    # get recommended book titles in sorted order\n",
        "    recommended_books = data[data['ISBN'].isin(book_ratings['ISBN'])][['ISBN', 'Book-Title']]\n",
        "    recommended_books = recommended_books.drop_duplicates('ISBN').reset_index(drop=True)\n",
        "    assumed_ratings = book_ratings[0].reset_index(drop=True)\n",
        "\n",
        "    return pd.DataFrame({'ISBN':recommended_books['ISBN'],\n",
        "                         'Recommended Book':recommended_books['Book-Title'],\n",
        "                         'Assumed Rating':assumed_ratings})"
      ]
    },
    {
      "cell_type": "code",
      "execution_count": null,
      "id": "478ebe06",
      "metadata": {
        "collapsed": true,
        "id": "478ebe06"
      },
      "outputs": [],
      "source": [
        "from sklearn.metrics.pairwise import cosine_similarity\n",
        "similarity_matrix = cosine_similarity(user_book_matrix_filled)\n",
        "\n",
        "user_index = 2131\n",
        "recommended_books = get_recommendation(user_index)\n",
        "\n",
        "user_id = user_book_matrix_filled.index[user_index]\n",
        "\n",
        "# get other high rated books by user\n",
        "temp = data[data['User-ID'] == user_id].sort_values(\n",
        "    'Book-Rating', ascending=False)[['Book-Rating', 'Book-Title', 'User-ID']].iloc[:10].reset_index(drop=True)\n",
        "\n",
        "\n",
        "recommended_books['userId'] = temp['User-ID']\n",
        "recommended_books['Book Read'] = temp['Book-Title']\n",
        "recommended_books['Rated']= temp['Book-Rating']\n",
        "recommended_books"
      ]
    },
    {
      "cell_type": "code",
      "execution_count": null,
      "id": "afb859cb",
      "metadata": {
        "collapsed": true,
        "id": "afb859cb"
      },
      "outputs": [],
      "source": [
        "recommendations = get_recommendation(6349)\n",
        "print(recommendations)"
      ]
    },
    {
      "cell_type": "markdown",
      "source": [
        "# Simulated Runnable Example"
      ],
      "metadata": {
        "id": "_512wlxyUf8l"
      },
      "id": "_512wlxyUf8l"
    },
    {
      "cell_type": "code",
      "source": [
        "import pandas as pd\n",
        "import numpy as np\n",
        "from sklearn.metrics.pairwise import cosine_similarity\n",
        "\n",
        "# mock ratings\n",
        "data = pd.DataFrame({\n",
        "    'User-ID': [1, 1, 2, 2, 3, 3, 4, 4],\n",
        "    'ISBN': ['B1', 'B2', 'B2', 'B3', 'B1', 'B3', 'B1', 'B4'],\n",
        "    'Book-Rating': [5, 3, 4, 2, 4, 5, 3, 4],\n",
        "    'Book-Title': ['Book 1', 'Book 2', 'Book 2', 'Book 3', 'Book 1', 'Book 3', 'Book 1', 'Book 4']\n",
        "})\n",
        "\n",
        "user_book_matrix = data.pivot_table(index='User-ID', columns='ISBN', values='Book-Rating')\n",
        "\n",
        "user_book_matrix_filled = user_book_matrix.apply(lambda row: row.fillna(row.mean()), axis=1)\n",
        "\n",
        "similarity_matrix = cosine_similarity(user_book_matrix_filled)\n"
      ],
      "metadata": {
        "id": "GEYx1O9-UmBO"
      },
      "id": "GEYx1O9-UmBO",
      "execution_count": null,
      "outputs": []
    },
    {
      "cell_type": "code",
      "source": [
        "def get_recommendation(user_index):\n",
        "    idx = user_index\n",
        "    sim_scores = list(enumerate(similarity_matrix[idx]))\n",
        "\n",
        "    unrated_books = user_book_matrix.columns[user_book_matrix.iloc[idx].isna()]\n",
        "    weighted_ratings = pd.DataFrame()\n",
        "\n",
        "    for book in unrated_books:\n",
        "        ratings = user_book_matrix_filled[book]\n",
        "        sims = pd.Series(dict(sim_scores))\n",
        "        weighted = ratings * sims\n",
        "        weighted_ratings[book] = weighted\n",
        "\n",
        "    weighted_ratings.index = user_book_matrix_filled.index\n",
        "\n",
        "    sim_scores = sorted(sim_scores, key=lambda x: x[1], reverse=True)[1:101]\n",
        "    top_sim_users = [i[0] for i in sim_scores]\n",
        "\n",
        "    book_ratings = weighted_ratings.loc[top_sim_users].mean().dropna().sort_values(ascending=False).reset_index()\n",
        "    book_ratings.columns = ['ISBN', 0]\n",
        "\n",
        "    recommended_books = data[data['ISBN'].isin(book_ratings['ISBN'])][['ISBN', 'Book-Title']].drop_duplicates('ISBN').reset_index(drop=True)\n",
        "    assumed_ratings = book_ratings[0].reset_index(drop=True)\n",
        "\n",
        "    return pd.DataFrame({'ISBN': recommended_books['ISBN'],\n",
        "                         'Recommended Book': recommended_books['Book-Title'],\n",
        "                         'Assumed Rating': assumed_ratings})\n"
      ],
      "metadata": {
        "id": "6mdFKHiuUuhr"
      },
      "id": "6mdFKHiuUuhr",
      "execution_count": null,
      "outputs": []
    },
    {
      "cell_type": "code",
      "source": [
        "user_index = 0  # corresponds to User-ID 1 in this example\n",
        "recommended_books = get_recommendation(user_index)\n",
        "\n",
        "user_id = user_book_matrix_filled.index[user_index]\n",
        "\n",
        "# Books the user already rated\n",
        "user_books = data[data['User-ID'] == user_id].sort_values('Book-Rating', ascending=False)[['Book-Title', 'Book-Rating']].drop_duplicates('Book-Title')\n",
        "\n",
        "print(\"Books already rated by user:\")\n",
        "print(user_books)\n",
        "\n",
        "print(\"\\nRecommended books:\")\n",
        "print(recommended_books)\n"
      ],
      "metadata": {
        "id": "_BS-yEIlUyqP"
      },
      "id": "_BS-yEIlUyqP",
      "execution_count": null,
      "outputs": []
    }
  ],
  "metadata": {
    "kernelspec": {
      "display_name": "Python 3 (ipykernel)",
      "language": "python",
      "name": "python3"
    },
    "language_info": {
      "codemirror_mode": {
        "name": "ipython",
        "version": 3
      },
      "file_extension": ".py",
      "mimetype": "text/x-python",
      "name": "python",
      "nbconvert_exporter": "python",
      "pygments_lexer": "ipython3",
      "version": "3.9.1"
    },
    "toc": {
      "base_numbering": 1,
      "nav_menu": {},
      "number_sections": true,
      "sideBar": true,
      "skip_h1_title": false,
      "title_cell": "Table of Contents",
      "title_sidebar": "Contents",
      "toc_cell": false,
      "toc_position": {},
      "toc_section_display": true,
      "toc_window_display": false
    },
    "colab": {
      "provenance": [],
      "include_colab_link": true
    }
  },
  "nbformat": 4,
  "nbformat_minor": 5
}